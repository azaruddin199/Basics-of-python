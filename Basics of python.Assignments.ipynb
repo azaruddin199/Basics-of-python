{
 "cells": [
  {
   "cell_type": "markdown",
   "id": "4a6acdc8",
   "metadata": {},
   "source": [
    "# Python Programming Assignment"
   ]
  },
  {
   "cell_type": "markdown",
   "id": "617f3bd0",
   "metadata": {},
   "source": [
    "Exercise 1: Prime Numbers"
   ]
  },
  {
   "cell_type": "code",
   "execution_count": 8,
   "id": "934079f9",
   "metadata": {},
   "outputs": [
    {
     "name": "stdout",
     "output_type": "stream",
     "text": [
      "Enter a number to check if it is prime: 7\n",
      "7 is a prime number.\n"
     ]
    }
   ],
   "source": [
    "def is_prime(number):\n",
    "    if number <= 1:\n",
    "        return False\n",
    "    for i in range(2, number):\n",
    "        if number % i == 0:\n",
    "            return False\n",
    "    return True\n",
    "num = int(input(\"Enter a number to check if it is prime: \"))\n",
    "if is_prime(num):\n",
    "    print(f\"{num} is a prime number.\")\n",
    "else:\n",
    "    print(f\"{num} is not a prime number.\")\n"
   ]
  },
  {
   "cell_type": "markdown",
   "id": "85062740",
   "metadata": {},
   "source": [
    "Exercise 2:Product of Random Numbers"
   ]
  },
  {
   "cell_type": "code",
   "execution_count": 12,
   "id": "690f8de4",
   "metadata": {},
   "outputs": [
    {
     "name": "stdout",
     "output_type": "stream",
     "text": [
      "Random number 1: 25\n",
      "Random number 2: 67\n",
      "\n",
      "The product of the two random numbers is: 1675\n"
     ]
    }
   ],
   "source": [
    "import random\n",
    "def multiply_random_numbers():\n",
    "    num1 = random.randint(1, 100) \n",
    "    num2 = random.randint(1, 100)  \n",
    "    print(f\"Random number 1: {num1}\")\n",
    "    print(f\"Random number 2: {num2}\")\n",
    "    \n",
    "    product = num1 * num2\n",
    "    return product\n",
    "result = multiply_random_numbers()\n",
    "print(f\"\\nThe product of the two random numbers is: {result}\")\n"
   ]
  },
  {
   "cell_type": "markdown",
   "id": "6572d998",
   "metadata": {},
   "source": [
    "Exercise 3: Squares of Even/Odd Numbers"
   ]
  },
  {
   "cell_type": "code",
   "execution_count": 14,
   "id": "6c6a8d48",
   "metadata": {},
   "outputs": [
    {
     "name": "stdout",
     "output_type": "stream",
     "text": [
      "Enter the limit for generating squares: 8\n",
      "Squares of even numbers up to 8:\n",
      "[4, 16, 36, 64]\n",
      "\n",
      "Squares of odd numbers up to 8:\n",
      "[1, 9, 25, 49]\n"
     ]
    }
   ],
   "source": [
    "def squares_even_odd(limit):\n",
    "    even_squares = []\n",
    "    odd_squares = []\n",
    "\n",
    "    for num in range(1, limit + 1):\n",
    "        square = num ** 2\n",
    "        if num % 2 == 0:\n",
    "            even_squares.append(square)\n",
    "        else:\n",
    "            odd_squares.append(square)\n",
    "    \n",
    "    return even_squares, odd_squares\n",
    "limit = int(input(\"Enter the limit for generating squares: \"))\n",
    "even_squares, odd_squares = squares_even_odd(limit)\n",
    "print(f\"Squares of even numbers up to {limit}:\")\n",
    "print(even_squares)\n",
    "print(f\"\\nSquares of odd numbers up to {limit}:\")\n",
    "print(odd_squares)\n"
   ]
  },
  {
   "cell_type": "markdown",
   "id": "a92ae134",
   "metadata": {},
   "source": [
    "Exercise 4: Word counter"
   ]
  },
  {
   "cell_type": "code",
   "execution_count": 17,
   "id": "abe5def6",
   "metadata": {},
   "outputs": [
    {
     "name": "stdout",
     "output_type": "stream",
     "text": [
      "Enter a text to count the number of words: write a program to count the number of words in a given text.\n",
      "Number of words in the text: 13\n"
     ]
    }
   ],
   "source": [
    "def count_words(text):\n",
    "    text = text.strip()\n",
    "    words = text.split()\n",
    "    return len(words)\n",
    "text = input(\"Enter a text to count the number of words: \")\n",
    "word_count = count_words(text)\n",
    "print(f\"Number of words in the text: {word_count}\")\n"
   ]
  },
  {
   "cell_type": "markdown",
   "id": "df6b7c43",
   "metadata": {},
   "source": [
    "Exercise 5: Check for Palindrome"
   ]
  },
  {
   "cell_type": "code",
   "execution_count": 24,
   "id": "905cf38e",
   "metadata": {},
   "outputs": [
    {
     "name": "stdout",
     "output_type": "stream",
     "text": [
      "Enter a string to check if it is a palindrome: tfgft\n",
      "'tfgft' is a palindrome.\n"
     ]
    }
   ],
   "source": [
    "def is_palindrome(s):\n",
    "    s = ''.join(char.lower() for char in s if char.isalnum())\n",
    "    return s == s[::-1]\n",
    "input_string = input(\"Enter a string to check if it is a palindrome: \")\n",
    "if is_palindrome(input_string):\n",
    "    print(f\"'{input_string}' is a palindrome.\")\n",
    "else:\n",
    "    print(f\"'{input_string}' is not a palindrome.\")\n"
   ]
  }
 ],
 "metadata": {
  "kernelspec": {
   "display_name": "Python 3 (ipykernel)",
   "language": "python",
   "name": "python3"
  },
  "language_info": {
   "codemirror_mode": {
    "name": "ipython",
    "version": 3
   },
   "file_extension": ".py",
   "mimetype": "text/x-python",
   "name": "python",
   "nbconvert_exporter": "python",
   "pygments_lexer": "ipython3",
   "version": "3.9.13"
  }
 },
 "nbformat": 4,
 "nbformat_minor": 5
}
